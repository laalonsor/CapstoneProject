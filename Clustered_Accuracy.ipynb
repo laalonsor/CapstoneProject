{
 "cells": [
  {
   "cell_type": "markdown",
   "metadata": {},
   "source": [
    "## Clustered Demand Planning Accuracy\n"
   ]
  },
  {
   "cell_type": "markdown",
   "metadata": {},
   "source": [
    "### Background: A Challenging Scenario\n",
    "\n",
    "All companies face a strategic challenge while trying to find ways to prevale in the marketplace. The driving forces of the market evolve and change at a fast pace, and it's easy to get lost in the ocean of possibilities to define a path to grow profitably: Portfolio innovation or renovation? Pricing to compete through value or target niche market? Develop a single channel or deploy an omnichannel presence? Invest heavily in marketing or drive infraestructure for cost reduction?...And the list continues, with multiple answers which seem to be equally valid.\n",
    "\n",
    "At the end, all companies make a choice and the strategy is materialized in a specific portfolio, with a defined number of customers that will be served through a specific pricing strategy and from which the supply chain will be alligned to have the products required readiliy available at the right place in the right time at the most efficiet cost to maximize profitability. At this point it all depends on a single set of numbers which are shared by all functions and from which the detection of risks and opportunities for the chosen strategy are more clear and are identified with good timing. The single set of numbers is called the __sales forecast__ and the process which makes this business allignment a reality is the __\"Sales and Operations Planning Process\": S&OP__.  \n",
    "\n",
    "Further references to develop a strategy approach using HBR's \"playing to win\" framework [can be found here](https://hbr.org/books/playing-to-win). Regarding S&OP and integrated business planning, [you will find this page from Oliver Wight very illustrative.](http://www.oliverwight-americas.com/white-papers-and-articles)\n"
   ]
  },
  {
   "cell_type": "markdown",
   "metadata": {},
   "source": [
    "### The Opportunity: A Capable Demand Planning\n",
    "\n",
    "It is critical to remember that _one of the key reasons why the S&OP process to exist_ is to fulfill the customers' needs, and is clear that in any FMCG one of the biggest causes of failures in customer service are related to _demand forecast inaccuracy_. Both growth and profitability are compromised when the forecast is build through poor planning principles, as it creates a systemic bias which drains resources to higher costs, unnecessary inventories, and missed opportunities to grow with strategic customers. \n",
    "\n",
    "The solution to this challenge is to create a Demand Plan, defined as _\"The best knowledge at a point in time about the expected volume requirements of all customers in a market, over a pre-defined time horizon.\"_ To note, the level of maturity of the Demand Planning function spans across the following stages:\n",
    "- Basic Forecasting: No customer input, Planner acts in isolation Value,  forecast in \"$\"\n",
    "- Basic Demand Planning: Forecast drives internal Supply Chain Planner has sales & Mkting input\n",
    "- Capable Demand Planning: Sales own the process & plan, broad range of assumptions used, bias has been eliminated\n",
    "- Demand Management: Customer assumption driven, customer linkage is major input, Plans span End to End Supply Chain\n",
    "- Integrated Demand Management: Assumptions used to drive activity, CPFR in place & functioning, Plans drive End to End S.C.\n",
    "\n",
    "Addressing the challenge of creating a demand planning process which delivers a __Capable Demand Planning__ will translate into delivering periodic Sales Forecast Accuracy (SFA) >75% and eliminating structural bias.\n",
    "\n",
    "\n"
   ]
  },
  {
   "cell_type": "markdown",
   "metadata": {},
   "source": [
    "### The Problem to be Solved: \n",
    "#### __How  to deliver a consensus demand plan that enables the whole organisation to deliver the expected growth and customer service levels?__\n",
    "\n",
    "We have embraced this challenge and identified the key components to solve this problem. We defined a collaborative planning process which includes a continuous improvement routine that evaluates the accuracy of the forecast, and then is translated to increased refinment in the assumptions base. \n",
    "\n"
   ]
  },
  {
   "cell_type": "markdown",
   "metadata": {},
   "source": [
    "### Objective of this Project\n",
    "\n",
    "__In this project I will analyze the our forecast accuracy and how it has evolved from the last month of 2018 until Q3 2019__\n",
    "\n",
    "As this is my capstone project for the UDACITY Data Scientist for nterprise Nano Degree, I will follow these steps to analyze the data:\n",
    "1. ETL Routines: from CSV files spanning across several points in time to generate a single data set with dummy variables to analyze precision \n",
    "2. Data Visualization: displaying through different visuals the compositon of the dataset\n",
    "3. Clustering Selection and Tunning: analysis of different clusters derived from this information, and its relation to the different levels of forecast accuracy achieved for each cluster\n",
    "4. Conclusions: Generate insights from the clustering and data visualization in order to adjust the demand planning process.\n",
    "\n",
    "__NOTE ON CONFIDENTIALITY: To preserve the confidentiality of the sales forecast of the company subject of study, all data has been multiplied by a factor \"k\" which is not disclosed in this notebook, and the names of items, brands and channels have been replaced by non-descriptive labels, hence all conclusions will remain valid from the analytical and dimensionality perspective.__\n"
   ]
  },
  {
   "cell_type": "code",
   "execution_count": null,
   "metadata": {},
   "outputs": [],
   "source": []
  }
 ],
 "metadata": {
  "kernelspec": {
   "display_name": "Python 3",
   "language": "python",
   "name": "python3"
  },
  "language_info": {
   "codemirror_mode": {
    "name": "ipython",
    "version": 3
   },
   "file_extension": ".py",
   "mimetype": "text/x-python",
   "name": "python",
   "nbconvert_exporter": "python",
   "pygments_lexer": "ipython3",
   "version": "3.7.0"
  }
 },
 "nbformat": 4,
 "nbformat_minor": 2
}
